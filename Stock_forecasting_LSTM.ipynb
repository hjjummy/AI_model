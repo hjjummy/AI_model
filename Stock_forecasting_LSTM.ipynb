{
  "nbformat": 4,
  "nbformat_minor": 0,
  "metadata": {
    "colab": {
      "provenance": [],
      "gpuType": "T4"
    },
    "kernelspec": {
      "name": "python3",
      "display_name": "Python 3"
    },
    "language_info": {
      "name": "python"
    },
    "accelerator": "GPU"
  },
  "cells": [
    {
      "cell_type": "code",
      "execution_count": 1,
      "metadata": {
        "colab": {
          "base_uri": "https://localhost:8080/"
        },
        "id": "K6fhqwralmX6",
        "outputId": "9c1d0354-cf19-4da9-8296-367a849534a0"
      },
      "outputs": [
        {
          "output_type": "stream",
          "name": "stdout",
          "text": [
            "Requirement already satisfied: yfinance in /usr/local/lib/python3.10/dist-packages (0.2.43)\n",
            "Requirement already satisfied: pandas>=1.3.0 in /usr/local/lib/python3.10/dist-packages (from yfinance) (2.1.4)\n",
            "Requirement already satisfied: numpy>=1.16.5 in /usr/local/lib/python3.10/dist-packages (from yfinance) (1.26.4)\n",
            "Requirement already satisfied: requests>=2.31 in /usr/local/lib/python3.10/dist-packages (from yfinance) (2.32.3)\n",
            "Requirement already satisfied: multitasking>=0.0.7 in /usr/local/lib/python3.10/dist-packages (from yfinance) (0.0.11)\n",
            "Requirement already satisfied: lxml>=4.9.1 in /usr/local/lib/python3.10/dist-packages (from yfinance) (4.9.4)\n",
            "Requirement already satisfied: platformdirs>=2.0.0 in /usr/local/lib/python3.10/dist-packages (from yfinance) (4.3.6)\n",
            "Requirement already satisfied: pytz>=2022.5 in /usr/local/lib/python3.10/dist-packages (from yfinance) (2024.2)\n",
            "Requirement already satisfied: frozendict>=2.3.4 in /usr/local/lib/python3.10/dist-packages (from yfinance) (2.4.4)\n",
            "Requirement already satisfied: peewee>=3.16.2 in /usr/local/lib/python3.10/dist-packages (from yfinance) (3.17.6)\n",
            "Requirement already satisfied: beautifulsoup4>=4.11.1 in /usr/local/lib/python3.10/dist-packages (from yfinance) (4.12.3)\n",
            "Requirement already satisfied: html5lib>=1.1 in /usr/local/lib/python3.10/dist-packages (from yfinance) (1.1)\n",
            "Requirement already satisfied: soupsieve>1.2 in /usr/local/lib/python3.10/dist-packages (from beautifulsoup4>=4.11.1->yfinance) (2.6)\n",
            "Requirement already satisfied: six>=1.9 in /usr/local/lib/python3.10/dist-packages (from html5lib>=1.1->yfinance) (1.16.0)\n",
            "Requirement already satisfied: webencodings in /usr/local/lib/python3.10/dist-packages (from html5lib>=1.1->yfinance) (0.5.1)\n",
            "Requirement already satisfied: python-dateutil>=2.8.2 in /usr/local/lib/python3.10/dist-packages (from pandas>=1.3.0->yfinance) (2.8.2)\n",
            "Requirement already satisfied: tzdata>=2022.1 in /usr/local/lib/python3.10/dist-packages (from pandas>=1.3.0->yfinance) (2024.1)\n",
            "Requirement already satisfied: charset-normalizer<4,>=2 in /usr/local/lib/python3.10/dist-packages (from requests>=2.31->yfinance) (3.3.2)\n",
            "Requirement already satisfied: idna<4,>=2.5 in /usr/local/lib/python3.10/dist-packages (from requests>=2.31->yfinance) (3.10)\n",
            "Requirement already satisfied: urllib3<3,>=1.21.1 in /usr/local/lib/python3.10/dist-packages (from requests>=2.31->yfinance) (2.0.7)\n",
            "Requirement already satisfied: certifi>=2017.4.17 in /usr/local/lib/python3.10/dist-packages (from requests>=2.31->yfinance) (2024.8.30)\n"
          ]
        }
      ],
      "source": [
        "import numpy as np\n",
        "import pandas as pd\n",
        "import pandas_datareader.data as pdr\n",
        "import matplotlib.pyplot as plt\n",
        "\n",
        "import datetime\n",
        "\n",
        "import torch\n",
        "import torch.nn as nn\n",
        "from torch.autograd import Variable\n",
        "\n",
        "import torch.optim as optim\n",
        "from torch.utils.data import Dataset, DataLoader\n",
        "\n",
        "!pip install yfinance # yfinance 모듈 설치\n",
        "import yfinance as yf  # yfinance 모듈 임포트"
      ]
    },
    {
      "cell_type": "code",
      "source": [
        "start = (2000, 1, 1)  # 2000년 01년 01월\n",
        "start = datetime.datetime(*start)\n",
        "end = datetime.date.today()  # 현재\n",
        "\n",
        "# pandas_datareader가 작동하지 않으므로 yfinance를 사용하여 데이터 가져오기\n",
        "df = yf.download('005930.KS', start=start, end=end)\n",
        "\n",
        "\n",
        "print(df.head(5))\n",
        "print(df.tail(5))\n",
        "df.Close.plot(grid=True)"
      ],
      "metadata": {
        "colab": {
          "base_uri": "https://localhost:8080/",
          "height": 721
        },
        "id": "xxcgzk1elotu",
        "outputId": "3c942996-26ae-462a-9b60-ec7b495b0562"
      },
      "execution_count": 3,
      "outputs": [
        {
          "output_type": "stream",
          "name": "stderr",
          "text": [
            "\r[*********************100%***********************]  1 of 1 completed"
          ]
        },
        {
          "output_type": "stream",
          "name": "stdout",
          "text": [
            "              Open    High     Low   Close    Adj Close    Volume\n",
            "Date                                                             \n",
            "2000-01-04  6000.0  6110.0  5660.0  6110.0  4429.952148  74195000\n",
            "2000-01-05  5800.0  6060.0  5520.0  5580.0  4045.681396  74680000\n",
            "2000-01-06  5750.0  5780.0  5580.0  5620.0  4074.686279  54390000\n",
            "2000-01-07  5560.0  5670.0  5360.0  5540.0  4016.682861  40305000\n",
            "2000-01-10  5600.0  5770.0  5580.0  5770.0  4183.439941  46880000\n",
            "               Open     High      Low    Close  Adj Close    Volume\n",
            "Date                                                               \n",
            "2024-09-11  65100.0  65500.0  64200.0  64900.0    64900.0  35809707\n",
            "2024-09-12  66000.0  66600.0  65200.0  66300.0    66300.0  35884106\n",
            "2024-09-13  65000.0  65500.0  64300.0  64400.0    64400.0  25045135\n",
            "2024-09-19  64000.0  64400.0  62200.0  63100.0    63100.0  49402713\n",
            "2024-09-20  63800.0  64700.0  63000.0  63000.0    63000.0  32746056\n"
          ]
        },
        {
          "output_type": "stream",
          "name": "stderr",
          "text": [
            "\n"
          ]
        },
        {
          "output_type": "execute_result",
          "data": {
            "text/plain": [
              "<Axes: xlabel='Date'>"
            ]
          },
          "metadata": {},
          "execution_count": 3
        },
        {
          "output_type": "display_data",
          "data": {
            "text/plain": [
              "<Figure size 640x480 with 1 Axes>"
            ],
            "image/png": "[encoded data removed]"
          },
          "metadata": {}
        }
      ]
    },
    {
      "cell_type": "code",
      "source": [
        "#open 시가/high 고가/low 저가/close 종가/ volume 거래량\n",
        "\n",
        "X = df.drop(columns='Volume')#거래량은 데이터에서 제외\n",
        "y = df.iloc[:, 5:6]\n",
        "\n",
        "print(X)\n",
        "print(y)"
      ],
      "metadata": {
        "colab": {
          "base_uri": "https://localhost:8080/"
        },
        "id": "EwOG6WxoyufP",
        "outputId": "0dc52c1a-a6b7-4049-a7e7-2960fc2ff02a"
      },
      "execution_count": 4,
      "outputs": [
        {
          "output_type": "stream",
          "name": "stdout",
          "text": [
            "               Open     High      Low    Close     Adj Close\n",
            "Date                                                        \n",
            "2000-01-04   6000.0   6110.0   5660.0   6110.0   4429.952148\n",
            "2000-01-05   5800.0   6060.0   5520.0   5580.0   4045.681396\n",
            "2000-01-06   5750.0   5780.0   5580.0   5620.0   4074.686279\n",
            "2000-01-07   5560.0   5670.0   5360.0   5540.0   4016.682861\n",
            "2000-01-10   5600.0   5770.0   5580.0   5770.0   4183.439941\n",
            "...             ...      ...      ...      ...           ...\n",
            "2024-09-11  65100.0  65500.0  64200.0  64900.0  64900.000000\n",
            "2024-09-12  66000.0  66600.0  65200.0  66300.0  66300.000000\n",
            "2024-09-13  65000.0  65500.0  64300.0  64400.0  64400.000000\n",
            "2024-09-19  64000.0  64400.0  62200.0  63100.0  63100.000000\n",
            "2024-09-20  63800.0  64700.0  63000.0  63000.0  63000.000000\n",
            "\n",
            "[6194 rows x 5 columns]\n",
            "              Volume\n",
            "Date                \n",
            "2000-01-04  74195000\n",
            "2000-01-05  74680000\n",
            "2000-01-06  54390000\n",
            "2000-01-07  40305000\n",
            "2000-01-10  46880000\n",
            "...              ...\n",
            "2024-09-11  35809707\n",
            "2024-09-12  35884106\n",
            "2024-09-13  25045135\n",
            "2024-09-19  49402713\n",
            "2024-09-20  32746056\n",
            "\n",
            "[6194 rows x 1 columns]\n"
          ]
        }
      ]
    },
    {
      "cell_type": "code",
      "source": [
        "from sklearn.preprocessing import StandardScaler, MinMaxScaler\n",
        "mm = MinMaxScaler()\n",
        "ss = StandardScaler()\n",
        "\n",
        "X_ss = ss.fit_transform(X)\n",
        "y_mm = mm.fit_transform(y)\n",
        "\n",
        "# Train Data\n",
        "X_train = X_ss[:4500, :]\n",
        "X_test = X_ss[4500:, :]\n",
        "\n",
        "#Test Data\n",
        "y_train = y_mm[:4500, :]\n",
        "y_test = y_mm[4500:, :]\n",
        "\n",
        "print(\"Training Shape\", X_train.shape, y_train.shape)\n",
        "print(\"Testing Shape\", X_test.shape, y_test.shape)"
      ],
      "metadata": {
        "colab": {
          "base_uri": "https://localhost:8080/"
        },
        "id": "_pvzixjvzTZD",
        "outputId": "7c759cdd-9252-458e-d002-a88d2507f994"
      },
      "execution_count": 5,
      "outputs": [
        {
          "output_type": "stream",
          "name": "stdout",
          "text": [
            "Training Shape (4500, 5) (4500, 1)\n",
            "Testing Shape (1694, 5) (1694, 1)\n"
          ]
        }
      ]
    },
    {
      "cell_type": "code",
      "source": [
        "X_train_tensors = torch.Tensor(X_train)\n",
        "X_test_tensors = torch.Tensor(X_test)\n",
        "\n",
        "y_train_tensors = torch.Tensor(y_train)\n",
        "y_test_tensors = torch.Tensor(y_test)\n",
        "\n",
        "X_train_tensors_final = torch.reshape(X_train_tensors,   (X_train_tensors.shape[0], 1, X_train_tensors.shape[1]))\n",
        "X_test_tensors_final = torch.reshape(X_test_tensors,  (X_test_tensors.shape[0], 1, X_test_tensors.shape[1]))\n",
        "\n",
        "print(\"Training Shape\", X_train_tensors_final.shape, y_train_tensors.shape)\n",
        "print(\"Testing Shape\", X_test_tensors_final.shape, y_test_tensors.shape)\n"
      ],
      "metadata": {
        "colab": {
          "base_uri": "https://localhost:8080/"
        },
        "id": "jYtjHS8B_h6u",
        "outputId": "d701feb6-b37e-4bff-b119-b757efb69668"
      },
      "execution_count": 6,
      "outputs": [
        {
          "output_type": "stream",
          "name": "stdout",
          "text": [
            "Training Shape torch.Size([4500, 1, 5]) torch.Size([4500, 1])\n",
            "Testing Shape torch.Size([1694, 1, 5]) torch.Size([1694, 1])\n"
          ]
        }
      ]
    },
    {
      "cell_type": "code",
      "source": [
        "device= torch.device(\"cuda:0\" if torch.cuda.is_available() else \"cpu\")\n",
        "print(device)"
      ],
      "metadata": {
        "colab": {
          "base_uri": "https://localhost:8080/"
        },
        "id": "02r5zB3FBDVC",
        "outputId": "068dea78-c59c-45a9-d141-d375d9d6b89b"
      },
      "execution_count": 7,
      "outputs": [
        {
          "output_type": "stream",
          "name": "stdout",
          "text": [
            "cuda:0\n"
          ]
        }
      ]
    },
    {
      "cell_type": "code",
      "source": [
        "class LSTM1(nn.Module):\n",
        "  def __init__(self, num_classes, input_size, hidden_size, num_layers, seq_length):\n",
        "    super(LSTM1, self).__init__()\n",
        "    self.num_classes = num_classes #number of classes\n",
        "    self.num_layers = num_layers #number of layers\n",
        "    self.input_size = input_size #input size\n",
        "    self.hidden_size = hidden_size #hidden state\n",
        "    self.seq_length = seq_length #sequence length\n",
        "\n",
        "    self.lstm = nn.LSTM(input_size=input_size, hidden_size=hidden_size,\n",
        "                      num_layers=num_layers, batch_first=True) #lstm\n",
        "    self.fc_1 =  nn.Linear(hidden_size, 128) #fully connected 1\n",
        "    self.fc = nn.Linear(128, num_classes) #fully connected last layer\n",
        "\n",
        "    self.relu = nn.ReLU()\n",
        "\n",
        "  def forward(self,x):\n",
        "    h_0 = Variable(torch.zeros(self.num_layers, x.size(0), self.hidden_size)).to(device) #hidden state\n",
        "    c_0 = Variable(torch.zeros(self.num_layers, x.size(0), self.hidden_size)).to(device) #internal state\n",
        "    # Propagate input through LSTM\n",
        "\n",
        "    output, (hn, cn) = self.lstm(x, (h_0, c_0)) #lstm with input, hidden, and internal state\n",
        "\n",
        "    hn = hn.view(-1, self.hidden_size) #reshaping the data for Dense layer next\n",
        "    out = self.relu(hn)\n",
        "    out = self.fc_1(out) #first Dense\n",
        "    out = self.relu(out) #relu\n",
        "    out = self.fc(out) #Final Output\n",
        "\n",
        "    return out\n"
      ],
      "metadata": {
        "id": "iNizIbNJXVxs"
      },
      "execution_count": 8,
      "outputs": []
    },
    {
      "cell_type": "code",
      "source": [
        "#네트워크 파라미터 구성하기\n",
        "num_epochs = 30000 #1000 epochs\n",
        "learning_rate = 0.00001 #0.001 lr\n",
        "\n",
        "input_size = 5 #number of features\n",
        "hidden_size = 2 #number of features in hidden state\n",
        "num_layers = 1 #number of stacked lstm layers\n",
        "\n",
        "num_classes = 1 #number of output classes"
      ],
      "metadata": {
        "id": "ywHSDb40cG77"
      },
      "execution_count": 9,
      "outputs": []
    },
    {
      "cell_type": "code",
      "source": [
        "lstm1 = LSTM1(num_classes, input_size, hidden_size, num_layers, X_train_tensors_final.shape[1]).to(device)\n",
        "\n",
        "loss_function = torch.nn.MSELoss()    # mean-squared error for regression\n",
        "optimizer = torch.optim.Adam(lstm1.parameters(), lr=learning_rate)  # adam optimizer"
      ],
      "metadata": {
        "id": "4s3ibL4HcNbv"
      },
      "execution_count": 10,
      "outputs": []
    },
    {
      "cell_type": "code",
      "source": [
        "#학습하기\n",
        "for epoch in range(num_epochs):\n",
        "  outputs = lstm1.forward(X_train_tensors_final.to(device)) #forward pass\n",
        "  optimizer.zero_grad() #caluclate the gradient, manually setting to 0\n",
        "\n",
        "  # obtain the loss function\n",
        "  loss = loss_function(outputs, y_train_tensors.to(device))\n",
        "\n",
        "  loss.backward() #calculates the loss of the loss function\n",
        "\n",
        "  optimizer.step() #improve from loss, i.e backprop\n",
        "  if epoch % 100 == 0:\n",
        "    print(\"Epoch: %d, loss: %1.5f\" % (epoch, loss.item()))"
      ],
      "metadata": {
        "colab": {
          "base_uri": "https://localhost:8080/"
        },
        "id": "VqRwswyucbsv",
        "outputId": "3dbc88a2-35c1-455f-9d41-ac630154ae81"
      },
      "execution_count": 11,
      "outputs": [
        {
          "output_type": "stream",
          "name": "stdout",
          "text": [
            "Epoch: 0, loss: 0.02919\n",
            "Epoch: 100, loss: 0.02160\n",
            "Epoch: 200, loss: 0.01654\n",
            "Epoch: 300, loss: 0.01339\n",
            "Epoch: 400, loss: 0.01159\n",
            "Epoch: 500, loss: 0.01065\n",
            "Epoch: 600, loss: 0.01020\n",
            "Epoch: 700, loss: 0.01001\n",
            "Epoch: 800, loss: 0.00994\n",
            "Epoch: 900, loss: 0.00992\n",
            "Epoch: 1000, loss: 0.00991\n",
            "Epoch: 1100, loss: 0.00991\n",
            "Epoch: 1200, loss: 0.00991\n",
            "Epoch: 1300, loss: 0.00991\n",
            "Epoch: 1400, loss: 0.00991\n",
            "Epoch: 1500, loss: 0.00991\n",
            "Epoch: 1600, loss: 0.00991\n",
            "Epoch: 1700, loss: 0.00990\n",
            "Epoch: 1800, loss: 0.00990\n",
            "Epoch: 1900, loss: 0.00990\n",
            "Epoch: 2000, loss: 0.00990\n",
            "Epoch: 2100, loss: 0.00990\n",
            "Epoch: 2200, loss: 0.00990\n",
            "Epoch: 2300, loss: 0.00990\n",
            "Epoch: 2400, loss: 0.00990\n",
            "Epoch: 2500, loss: 0.00990\n",
            "Epoch: 2600, loss: 0.00990\n",
            "Epoch: 2700, loss: 0.00989\n",
            "Epoch: 2800, loss: 0.00989\n",
            "Epoch: 2900, loss: 0.00989\n",
            "Epoch: 3000, loss: 0.00989\n",
            "Epoch: 3100, loss: 0.00989\n",
            "Epoch: 3200, loss: 0.00989\n",
            "Epoch: 3300, loss: 0.00988\n",
            "Epoch: 3400, loss: 0.00988\n",
            "Epoch: 3500, loss: 0.00988\n",
            "Epoch: 3600, loss: 0.00988\n",
            "Epoch: 3700, loss: 0.00988\n",
            "Epoch: 3800, loss: 0.00988\n",
            "Epoch: 3900, loss: 0.00987\n",
            "Epoch: 4000, loss: 0.00987\n",
            "Epoch: 4100, loss: 0.00987\n",
            "Epoch: 4200, loss: 0.00987\n",
            "Epoch: 4300, loss: 0.00987\n",
            "Epoch: 4400, loss: 0.00986\n",
            "Epoch: 4500, loss: 0.00986\n",
            "Epoch: 4600, loss: 0.00986\n",
            "Epoch: 4700, loss: 0.00986\n",
            "Epoch: 4800, loss: 0.00985\n",
            "Epoch: 4900, loss: 0.00985\n",
            "Epoch: 5000, loss: 0.00985\n",
            "Epoch: 5100, loss: 0.00985\n",
            "Epoch: 5200, loss: 0.00984\n",
            "Epoch: 5300, loss: 0.00984\n",
            "Epoch: 5400, loss: 0.00984\n",
            "Epoch: 5500, loss: 0.00983\n",
            "Epoch: 5600, loss: 0.00983\n",
            "Epoch: 5700, loss: 0.00983\n",
            "Epoch: 5800, loss: 0.00982\n",
            "Epoch: 5900, loss: 0.00982\n",
            "Epoch: 6000, loss: 0.00981\n",
            "Epoch: 6100, loss: 0.00981\n",
            "Epoch: 6200, loss: 0.00981\n",
            "Epoch: 6300, loss: 0.00980\n",
            "Epoch: 6400, loss: 0.00980\n",
            "Epoch: 6500, loss: 0.00979\n",
            "Epoch: 6600, loss: 0.00979\n",
            "Epoch: 6700, loss: 0.00979\n",
            "Epoch: 6800, loss: 0.00978\n",
            "Epoch: 6900, loss: 0.00978\n",
            "Epoch: 7000, loss: 0.00977\n",
            "Epoch: 7100, loss: 0.00977\n",
            "Epoch: 7200, loss: 0.00977\n",
            "Epoch: 7300, loss: 0.00976\n",
            "Epoch: 7400, loss: 0.00976\n",
            "Epoch: 7500, loss: 0.00975\n",
            "Epoch: 7600, loss: 0.00975\n",
            "Epoch: 7700, loss: 0.00975\n",
            "Epoch: 7800, loss: 0.00974\n",
            "Epoch: 7900, loss: 0.00974\n",
            "Epoch: 8000, loss: 0.00974\n",
            "Epoch: 8100, loss: 0.00974\n",
            "Epoch: 8200, loss: 0.00973\n",
            "Epoch: 8300, loss: 0.00973\n",
            "Epoch: 8400, loss: 0.00973\n",
            "Epoch: 8500, loss: 0.00972\n",
            "Epoch: 8600, loss: 0.00972\n",
            "Epoch: 8700, loss: 0.00972\n",
            "Epoch: 8800, loss: 0.00972\n",
            "Epoch: 8900, loss: 0.00972\n",
            "Epoch: 9000, loss: 0.00971\n",
            "Epoch: 9100, loss: 0.00971\n",
            "Epoch: 9200, loss: 0.00971\n",
            "Epoch: 9300, loss: 0.00971\n",
            "Epoch: 9400, loss: 0.00971\n",
            "Epoch: 9500, loss: 0.00971\n",
            "Epoch: 9600, loss: 0.00971\n",
            "Epoch: 9700, loss: 0.00970\n",
            "Epoch: 9800, loss: 0.00970\n",
            "Epoch: 9900, loss: 0.00970\n",
            "Epoch: 10000, loss: 0.00970\n",
            "Epoch: 10100, loss: 0.00970\n",
            "Epoch: 10200, loss: 0.00970\n",
            "Epoch: 10300, loss: 0.00970\n",
            "Epoch: 10400, loss: 0.00970\n",
            "Epoch: 10500, loss: 0.00970\n",
            "Epoch: 10600, loss: 0.00970\n",
            "Epoch: 10700, loss: 0.00970\n",
            "Epoch: 10800, loss: 0.00969\n",
            "Epoch: 10900, loss: 0.00969\n",
            "Epoch: 11000, loss: 0.00969\n",
            "Epoch: 11100, loss: 0.00969\n",
            "Epoch: 11200, loss: 0.00969\n",
            "Epoch: 11300, loss: 0.00969\n",
            "Epoch: 11400, loss: 0.00969\n",
            "Epoch: 11500, loss: 0.00969\n",
            "Epoch: 11600, loss: 0.00969\n",
            "Epoch: 11700, loss: 0.00969\n",
            "Epoch: 11800, loss: 0.00969\n",
            "Epoch: 11900, loss: 0.00969\n",
            "Epoch: 12000, loss: 0.00969\n",
            "Epoch: 12100, loss: 0.00968\n",
            "Epoch: 12200, loss: 0.00968\n",
            "Epoch: 12300, loss: 0.00968\n",
            "Epoch: 12400, loss: 0.00968\n",
            "Epoch: 12500, loss: 0.00968\n",
            "Epoch: 12600, loss: 0.00968\n",
            "Epoch: 12700, loss: 0.00968\n",
            "Epoch: 12800, loss: 0.00968\n",
            "Epoch: 12900, loss: 0.00968\n",
            "Epoch: 13000, loss: 0.00968\n",
            "Epoch: 13100, loss: 0.00968\n",
            "Epoch: 13200, loss: 0.00968\n",
            "Epoch: 13300, loss: 0.00968\n",
            "Epoch: 13400, loss: 0.00968\n",
            "Epoch: 13500, loss: 0.00968\n",
            "Epoch: 13600, loss: 0.00967\n",
            "Epoch: 13700, loss: 0.00967\n",
            "Epoch: 13800, loss: 0.00967\n",
            "Epoch: 13900, loss: 0.00967\n",
            "Epoch: 14000, loss: 0.00967\n",
            "Epoch: 14100, loss: 0.00967\n",
            "Epoch: 14200, loss: 0.00967\n",
            "Epoch: 14300, loss: 0.00967\n",
            "Epoch: 14400, loss: 0.00967\n",
            "Epoch: 14500, loss: 0.00967\n",
            "Epoch: 14600, loss: 0.00967\n",
            "Epoch: 14700, loss: 0.00967\n",
            "Epoch: 14800, loss: 0.00967\n",
            "Epoch: 14900, loss: 0.00967\n",
            "Epoch: 15000, loss: 0.00967\n",
            "Epoch: 15100, loss: 0.00967\n",
            "Epoch: 15200, loss: 0.00967\n",
            "Epoch: 15300, loss: 0.00967\n",
            "Epoch: 15400, loss: 0.00967\n",
            "Epoch: 15500, loss: 0.00966\n",
            "Epoch: 15600, loss: 0.00966\n",
            "Epoch: 15700, loss: 0.00966\n",
            "Epoch: 15800, loss: 0.00966\n",
            "Epoch: 15900, loss: 0.00966\n",
            "Epoch: 16000, loss: 0.00966\n",
            "Epoch: 16100, loss: 0.00966\n",
            "Epoch: 16200, loss: 0.00966\n",
            "Epoch: 16300, loss: 0.00966\n",
            "Epoch: 16400, loss: 0.00966\n",
            "Epoch: 16500, loss: 0.00966\n",
            "Epoch: 16600, loss: 0.00966\n",
            "Epoch: 16700, loss: 0.00966\n",
            "Epoch: 16800, loss: 0.00966\n",
            "Epoch: 16900, loss: 0.00966\n",
            "Epoch: 17000, loss: 0.00966\n",
            "Epoch: 17100, loss: 0.00966\n",
            "Epoch: 17200, loss: 0.00966\n",
            "Epoch: 17300, loss: 0.00965\n",
            "Epoch: 17400, loss: 0.00965\n",
            "Epoch: 17500, loss: 0.00965\n",
            "Epoch: 17600, loss: 0.00965\n",
            "Epoch: 17700, loss: 0.00965\n",
            "Epoch: 17800, loss: 0.00965\n",
            "Epoch: 17900, loss: 0.00965\n",
            "Epoch: 18000, loss: 0.00965\n",
            "Epoch: 18100, loss: 0.00965\n",
            "Epoch: 18200, loss: 0.00965\n",
            "Epoch: 18300, loss: 0.00965\n",
            "Epoch: 18400, loss: 0.00965\n",
            "Epoch: 18500, loss: 0.00965\n",
            "Epoch: 18600, loss: 0.00965\n",
            "Epoch: 18700, loss: 0.00964\n",
            "Epoch: 18800, loss: 0.00964\n",
            "Epoch: 18900, loss: 0.00964\n",
            "Epoch: 19000, loss: 0.00964\n",
            "Epoch: 19100, loss: 0.00964\n",
            "Epoch: 19200, loss: 0.00964\n",
            "Epoch: 19300, loss: 0.00964\n",
            "Epoch: 19400, loss: 0.00964\n",
            "Epoch: 19500, loss: 0.00964\n",
            "Epoch: 19600, loss: 0.00964\n",
            "Epoch: 19700, loss: 0.00964\n",
            "Epoch: 19800, loss: 0.00964\n",
            "Epoch: 19900, loss: 0.00963\n",
            "Epoch: 20000, loss: 0.00963\n",
            "Epoch: 20100, loss: 0.00963\n",
            "Epoch: 20200, loss: 0.00963\n",
            "Epoch: 20300, loss: 0.00963\n",
            "Epoch: 20400, loss: 0.00963\n",
            "Epoch: 20500, loss: 0.00963\n",
            "Epoch: 20600, loss: 0.00963\n",
            "Epoch: 20700, loss: 0.00963\n",
            "Epoch: 20800, loss: 0.00963\n",
            "Epoch: 20900, loss: 0.00962\n",
            "Epoch: 21000, loss: 0.00962\n",
            "Epoch: 21100, loss: 0.00962\n",
            "Epoch: 21200, loss: 0.00962\n",
            "Epoch: 21300, loss: 0.00962\n",
            "Epoch: 21400, loss: 0.00962\n",
            "Epoch: 21500, loss: 0.00962\n",
            "Epoch: 21600, loss: 0.00962\n",
            "Epoch: 21700, loss: 0.00962\n",
            "Epoch: 21800, loss: 0.00962\n",
            "Epoch: 21900, loss: 0.00961\n",
            "Epoch: 22000, loss: 0.00961\n",
            "Epoch: 22100, loss: 0.00961\n",
            "Epoch: 22200, loss: 0.00961\n",
            "Epoch: 22300, loss: 0.00961\n",
            "Epoch: 22400, loss: 0.00961\n",
            "Epoch: 22500, loss: 0.00961\n",
            "Epoch: 22600, loss: 0.00961\n",
            "Epoch: 22700, loss: 0.00961\n",
            "Epoch: 22800, loss: 0.00961\n",
            "Epoch: 22900, loss: 0.00960\n",
            "Epoch: 23000, loss: 0.00960\n",
            "Epoch: 23100, loss: 0.00960\n",
            "Epoch: 23200, loss: 0.00960\n",
            "Epoch: 23300, loss: 0.00960\n",
            "Epoch: 23400, loss: 0.00960\n",
            "Epoch: 23500, loss: 0.00960\n",
            "Epoch: 23600, loss: 0.00960\n",
            "Epoch: 23700, loss: 0.00960\n",
            "Epoch: 23800, loss: 0.00959\n",
            "Epoch: 23900, loss: 0.00959\n",
            "Epoch: 24000, loss: 0.00959\n",
            "Epoch: 24100, loss: 0.00959\n",
            "Epoch: 24200, loss: 0.00959\n",
            "Epoch: 24300, loss: 0.00959\n",
            "Epoch: 24400, loss: 0.00959\n",
            "Epoch: 24500, loss: 0.00958\n",
            "Epoch: 24600, loss: 0.00958\n",
            "Epoch: 24700, loss: 0.00958\n",
            "Epoch: 24800, loss: 0.00958\n",
            "Epoch: 24900, loss: 0.00958\n",
            "Epoch: 25000, loss: 0.00958\n",
            "Epoch: 25100, loss: 0.00957\n",
            "Epoch: 25200, loss: 0.00957\n",
            "Epoch: 25300, loss: 0.00957\n",
            "Epoch: 25400, loss: 0.00957\n",
            "Epoch: 25500, loss: 0.00957\n",
            "Epoch: 25600, loss: 0.00957\n",
            "Epoch: 25700, loss: 0.00956\n",
            "Epoch: 25800, loss: 0.00956\n",
            "Epoch: 25900, loss: 0.00956\n",
            "Epoch: 26000, loss: 0.00956\n",
            "Epoch: 26100, loss: 0.00956\n",
            "Epoch: 26200, loss: 0.00955\n",
            "Epoch: 26300, loss: 0.00955\n",
            "Epoch: 26400, loss: 0.00955\n",
            "Epoch: 26500, loss: 0.00955\n",
            "Epoch: 26600, loss: 0.00954\n",
            "Epoch: 26700, loss: 0.00954\n",
            "Epoch: 26800, loss: 0.00954\n",
            "Epoch: 26900, loss: 0.00954\n",
            "Epoch: 27000, loss: 0.00953\n",
            "Epoch: 27100, loss: 0.00953\n",
            "Epoch: 27200, loss: 0.00953\n",
            "Epoch: 27300, loss: 0.00952\n",
            "Epoch: 27400, loss: 0.00952\n",
            "Epoch: 27500, loss: 0.00952\n",
            "Epoch: 27600, loss: 0.00952\n",
            "Epoch: 27700, loss: 0.00951\n",
            "Epoch: 27800, loss: 0.00951\n",
            "Epoch: 27900, loss: 0.00951\n",
            "Epoch: 28000, loss: 0.00950\n",
            "Epoch: 28100, loss: 0.00950\n",
            "Epoch: 28200, loss: 0.00950\n",
            "Epoch: 28300, loss: 0.00949\n",
            "Epoch: 28400, loss: 0.00949\n",
            "Epoch: 28500, loss: 0.00949\n",
            "Epoch: 28600, loss: 0.00949\n",
            "Epoch: 28700, loss: 0.00948\n",
            "Epoch: 28800, loss: 0.00948\n",
            "Epoch: 28900, loss: 0.00948\n",
            "Epoch: 29000, loss: 0.00947\n",
            "Epoch: 29100, loss: 0.00947\n",
            "Epoch: 29200, loss: 0.00947\n",
            "Epoch: 29300, loss: 0.00946\n",
            "Epoch: 29400, loss: 0.00946\n",
            "Epoch: 29500, loss: 0.00946\n",
            "Epoch: 29600, loss: 0.00946\n",
            "Epoch: 29700, loss: 0.00945\n",
            "Epoch: 29800, loss: 0.00945\n",
            "Epoch: 29900, loss: 0.00945\n"
          ]
        }
      ]
    },
    {
      "cell_type": "code",
      "source": [
        "#예측하기\n",
        "df_X_ss = ss.transform(df.drop(columns='Volume'))\n",
        "df_y_mm = mm.transform(df.iloc[:, 5:6])\n",
        "\n",
        "df_X_ss = Variable(torch.Tensor(df_X_ss)) #converting to Tensors\n",
        "df_y_mm = Variable(torch.Tensor(df_y_mm))\n",
        "#reshaping the dataset\n",
        "df_X_ss = torch.reshape(df_X_ss, (df_X_ss.shape[0], 1, df_X_ss.shape[1]))"
      ],
      "metadata": {
        "id": "gXLrmxGvcge1"
      },
      "execution_count": 12,
      "outputs": []
    },
    {
      "cell_type": "code",
      "source": [
        "train_predict = lstm1(df_X_ss.to(device))#forward pass\n",
        "data_predict = train_predict.data.detach().cpu().numpy() #numpy conversion\n",
        "dataY_plot = df_y_mm.data.numpy()\n",
        "\n",
        "data_predict = mm.inverse_transform(data_predict) #reverse transformation\n",
        "dataY_plot = mm.inverse_transform(dataY_plot)\n",
        "plt.figure(figsize=(10,6)) #plotting\n",
        "plt.axvline(x=4500, c='r', linestyle='--') #size of the training set\n",
        "\n",
        "plt.plot(dataY_plot, label='Actuall Data') #actual plot\n",
        "plt.plot(data_predict, label='Predicted Data') #predicted plot\n",
        "plt.title('Time-Series Prediction')\n",
        "plt.legend()\n",
        "plt.show()\n"
      ],
      "metadata": {
        "colab": {
          "base_uri": "https://localhost:8080/",
          "height": 545
        },
        "id": "bRIr6mCgRnAN",
        "outputId": "eef319ac-b498-40ec-e8bd-0197dca16f6f"
      },
      "execution_count": 15,
      "outputs": [
        {
          "output_type": "display_data",
          "data": {
            "text/plain": [
              "<Figure size 1000x600 with 1 Axes>"
            ],
            "image/png": "[encoded data removed]"
          },
          "metadata": {}
        }
      ]
    }
  ]
}